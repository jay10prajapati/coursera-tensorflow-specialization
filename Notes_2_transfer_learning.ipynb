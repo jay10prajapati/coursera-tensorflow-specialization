{
 "cells": [
  {
   "cell_type": "code",
   "execution_count": null,
   "id": "049ae999-6687-4c15-bee0-8d6a69533947",
   "metadata": {
    "tags": []
   },
   "outputs": [],
   "source": [
    "# Download the pre-trained weights. No top means it excludes the fully connected layer it uses for classification.\n",
    "!wget --no-check-certificate \\\n",
    "    https://storage.googleapis.com/mledu-datasets/inception_v3_weights_tf_dim_ordering_tf_kernels_notop.h5 \\\n",
    "    -O /tmp/inception_v3_weights_tf_dim_ordering_tf_kernels_notop.h5"
   ]
  },
  {
   "cell_type": "markdown",
   "id": "51a044f5-8c08-4321-b56c-e47fcaf947cc",
   "metadata": {},
   "source": [
    "## Loading InceptionV3 model with downloaded weights and given input size"
   ]
  },
  {
   "cell_type": "code",
   "execution_count": null,
   "id": "2a49cba4-e23e-4c78-8f0f-1bf81e01f138",
   "metadata": {
    "tags": []
   },
   "outputs": [],
   "source": [
    "from tensorflow.keras.applications.inception_v3 import InceptionV3\n",
    "from tensorflow.keras import layers\n",
    "\n",
    "# Set the weights file you downloaded into a variable\n",
    "local_weights_file = '/tmp/inception_v3_weights_tf_dim_ordering_tf_kernels_notop.h5'\n",
    "\n",
    "# Initialize the base model.\n",
    "# Set the input shape and remove the dense layers.\n",
    "pre_trained_model = InceptionV3(input_shape = (150, 150, 3), \n",
    "                                include_top = False, \n",
    "                                weights = None)\n",
    "\n",
    "# Load the pre-trained weights you downloaded.\n",
    "pre_trained_model.load_weights(local_weights_file)"
   ]
  },
  {
   "cell_type": "markdown",
   "id": "7bd70f02-436a-4da8-9c38-270b53fc380e",
   "metadata": {},
   "source": [
    "## Freez all layers so that it won't changed any weights associated with them"
   ]
  },
  {
   "cell_type": "code",
   "execution_count": null,
   "id": "5d0949fd-0b0c-4252-80a2-084f0340f869",
   "metadata": {},
   "outputs": [],
   "source": [
    "# Freeze the weights of the layers.\n",
    "for layer in pre_trained_model.layers:\n",
    "  layer.trainable = False"
   ]
  },
  {
   "cell_type": "markdown",
   "id": "8fbd4c6a-7373-41d6-aa97-d6eb89ccbf2b",
   "metadata": {},
   "source": [
    "### choose perticular layer of inception model and then add your own dense layer"
   ]
  },
  {
   "cell_type": "code",
   "execution_count": null,
   "id": "e7757519-da4d-42fa-8091-e786e9adc060",
   "metadata": {},
   "outputs": [],
   "source": [
    "from tensorflow.keras.optimizers import RMSprop\n",
    "from tensorflow.keras import Model\n",
    "\n",
    "# Choose `mixed_7` as the last layer of your base model\n",
    "last_layer = pre_trained_model.get_layer('mixed7')\n",
    "print('last layer output shape: ', last_layer.output_shape)\n",
    "last_output = last_layer.output\n",
    "\n",
    "# Flatten the output layer to 1 dimension\n",
    "x = layers.Flatten()(last_output)\n",
    "# Add a fully connected layer with 1,024 hidden units and ReLU activation\n",
    "x = layers.Dense(1024, activation='relu')(x)\n",
    "# Add a dropout rate of 0.2\n",
    "x = layers.Dropout(0.2)(x)                  \n",
    "# Add a final sigmoid layer for classification\n",
    "x = layers.Dense  (1, activation='sigmoid')(x)           \n",
    "\n",
    "# Append the dense network to the base model\n",
    "model = Model(pre_trained_model.input, x) \n",
    "\n",
    "# Print the model summary. See your dense network connected at the end.\n",
    "model.summary()\n",
    "\n",
    "model.compile(optimizer = RMSprop(learning_rate=0.0001), \n",
    "              loss = 'binary_crossentropy', \n",
    "              metrics = ['accuracy'])\n"
   ]
  },
  {
   "cell_type": "markdown",
   "id": "80218a62-df96-4e96-9ac3-63f85fbbeb73",
   "metadata": {},
   "source": [
    "## Download data and Data generator implementation with Augmentation"
   ]
  },
  {
   "cell_type": "code",
   "execution_count": null,
   "id": "62cfb3bb-c356-4005-9447-a67bb91fc4e0",
   "metadata": {},
   "outputs": [],
   "source": [
    "# Download the dataset\n",
    "!wget https://storage.googleapis.com/tensorflow-1-public/course2/cats_and_dogs_filtered.zip\n",
    "\n",
    "import os\n",
    "import zipfile\n",
    "from tensorflow.keras.preprocessing.image import ImageDataGenerator\n",
    "\n",
    "zip_ref = zipfile.ZipFile(\"./cats_and_dogs_filtered.zip\", 'r')\n",
    "zip_ref.extractall(\"tmp/\")\n",
    "zip_ref.close()\n",
    "\n",
    "base_dir = 'tmp/cats_and_dogs_filtered'\n",
    "train_dir = os.path.join( base_dir, 'train')\n",
    "validation_dir = os.path.join( base_dir, 'validation')\n",
    "train_cats_dir = os.path.join(train_dir, 'cats') \n",
    "train_dogs_dir = os.path.join(train_dir, 'dogs') \n",
    "validation_cats_dir = os.path.join(validation_dir, 'cats') \n",
    "validation_dogs_dir = os.path.join(validation_dir, 'dogs')\n",
    "\n",
    "train_datagen = ImageDataGenerator(rescale = 1./255.,\n",
    "                                   rotation_range = 40,\n",
    "                                   width_shift_range = 0.2,\n",
    "                                   height_shift_range = 0.2,\n",
    "                                   shear_range = 0.2,\n",
    "                                   zoom_range = 0.2,\n",
    "                                   horizontal_flip = True)\n",
    "\n",
    "test_datagen = ImageDataGenerator( rescale = 1.0/255. )\n",
    "\n",
    "train_generator = train_datagen.flow_from_directory(train_dir,\n",
    "                                                    batch_size = 20,\n",
    "                                                    class_mode = 'binary', \n",
    "                                                    target_size = (150, 150))     \n",
    "\n",
    "validation_generator =  test_datagen.flow_from_directory( validation_dir,\n",
    "                                                          batch_size  = 20,\n",
    "                                                          class_mode  = 'binary', \n",
    "                                                          target_size = (150, 150))"
   ]
  },
  {
   "cell_type": "markdown",
   "id": "a83ce6ff-aaf0-4c33-b316-93ee273d25a7",
   "metadata": {},
   "source": [
    "## Fit model with history"
   ]
  },
  {
   "cell_type": "code",
   "execution_count": null,
   "id": "301d961f-2811-4b67-bb97-c85714df9d43",
   "metadata": {},
   "outputs": [],
   "source": [
    "history = model.fit(\n",
    "            train_generator,\n",
    "            validation_data = validation_generator,\n",
    "            steps_per_epoch = 100,\n",
    "            epochs = 20,\n",
    "            validation_steps = 50,\n",
    "            verbose = 2)"
   ]
  },
  {
   "cell_type": "markdown",
   "id": "95906055-ad0f-4565-9314-ecd88f28b461",
   "metadata": {},
   "source": [
    "### Plot accuracy and loss "
   ]
  },
  {
   "cell_type": "code",
   "execution_count": null,
   "id": "8a5aab7e-334e-4e30-ab1c-e6b673a79195",
   "metadata": {},
   "outputs": [],
   "source": [
    "import pandas as pd\n",
    "import plotly.express as px\n",
    "def ploty_loss_acc(history):\n",
    "  acc = history.history['accuracy']\n",
    "  val_acc = history.history['val_accuracy']\n",
    "  loss = history.history['loss']\n",
    "  val_loss = history.history['val_loss']\n",
    "    \n",
    "    df = pd.DataFrame(dict(\n",
    "        epochs = epochs,\n",
    "        acc = acc,\n",
    "        val_acc = val_acc,\n",
    "        loss = loss,\n",
    "        val_loss = val_loss\n",
    "    ))\n",
    "\n",
    "    fig = px.line(df, x=\"epochs\", y=[\"acc\", \"val_acc\"], width=600, height=400)\n",
    "    fig.show()\n",
    "\n",
    "    fig2 = px.line(df, x=\"epochs\", y=[\"loss\", \"val_loss\"], width=600, height=400)\n",
    "    fig2.show()\n",
    "    \n",
    "ploty_loss_acc(history)"
   ]
  }
 ],
 "metadata": {
  "kernelspec": {
   "display_name": "Python 3 (ipykernel)",
   "language": "python",
   "name": "python3"
  },
  "language_info": {
   "codemirror_mode": {
    "name": "ipython",
    "version": 3
   },
   "file_extension": ".py",
   "mimetype": "text/x-python",
   "name": "python",
   "nbconvert_exporter": "python",
   "pygments_lexer": "ipython3",
   "version": "3.11.1"
  }
 },
 "nbformat": 4,
 "nbformat_minor": 5
}
