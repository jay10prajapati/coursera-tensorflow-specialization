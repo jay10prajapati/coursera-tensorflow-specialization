{
 "cells": [
  {
   "cell_type": "markdown",
   "id": "10ad0290",
   "metadata": {},
   "source": [
    "## Simple code regression model"
   ]
  },
  {
   "cell_type": "code",
   "execution_count": 1,
   "id": "886e1be1",
   "metadata": {},
   "outputs": [
    {
     "name": "stdout",
     "output_type": "stream",
     "text": [
      "2.12.0-rc0\n"
     ]
    }
   ],
   "source": [
    "import tensorflow as tf\n",
    "import numpy as np\n",
    "from tensorflow import keras\n",
    "\n",
    "print(tf.__version__)"
   ]
  },
  {
   "cell_type": "code",
   "execution_count": 15,
   "id": "a042962e",
   "metadata": {},
   "outputs": [
    {
     "data": {
      "text/plain": [
       "<keras.callbacks.History at 0x2d1a18316d0>"
      ]
     },
     "execution_count": 15,
     "metadata": {},
     "output_type": "execute_result"
    }
   ],
   "source": [
    "# Build a simple Sequential model\n",
    "model = tf.keras.Sequential([keras.layers.Dense(units=1, input_shape=[1])])\n",
    "\n",
    "# Compile the model\n",
    "model.compile(optimizer='sgd', loss='mean_squared_error')\n",
    "\n",
    "# Declare model inputs and outputs for training\n",
    "xs = np.array([-1.0,  0.0, 1.0, 2.0, 3.0, 4.0], dtype=float)\n",
    "ys = np.array([-3.0, -1.0, 1.0, 3.0, 5.0, 7.0], dtype=float)\n",
    "\n",
    "model.fit(xs, ys, epochs=500, verbose=0) # verbose=0 for not printing all epoch data"
   ]
  },
  {
   "cell_type": "code",
   "execution_count": 16,
   "id": "b0db1ed3",
   "metadata": {},
   "outputs": [
    {
     "name": "stdout",
     "output_type": "stream",
     "text": [
      "1/1 [==============================] - 0s 99ms/step\n"
     ]
    },
    {
     "data": {
      "text/plain": [
       "array([[18.985235]], dtype=float32)"
      ]
     },
     "execution_count": 16,
     "metadata": {},
     "output_type": "execute_result"
    }
   ],
   "source": [
    "# prediction\n",
    "model.predict([10.0])"
   ]
  },
  {
   "cell_type": "markdown",
   "id": "8148986f",
   "metadata": {},
   "source": [
    "### 3-Layer NN for image processing"
   ]
  },
  {
   "cell_type": "code",
   "execution_count": 1,
   "id": "2f513554",
   "metadata": {},
   "outputs": [
    {
     "name": "stdout",
     "output_type": "stream",
     "text": [
      "1875/1875 [==============================] - 24s 12ms/step - loss: 0.4750 - accuracy: 0.8316\n",
      "313/313 [==============================] - 1s 3ms/step - loss: 0.4201 - accuracy: 0.8441\n",
      "313/313 [==============================] - 1s 3ms/step\n",
      "[2.0428090e-05 3.8504757e-07 5.2018672e-06 1.5654373e-06 1.7363685e-05\n",
      " 1.1556558e-02 1.9537583e-05 6.9834106e-02 3.5626252e-04 9.1818863e-01]\n",
      "9\n"
     ]
    }
   ],
   "source": [
    "import tensorflow as tf\n",
    "\n",
    "fmnist = tf.keras.datasets.fashion_mnist\n",
    "\n",
    "(training_images, training_labels) ,  (test_images, test_labels) = fmnist.load_data()\n",
    "\n",
    "training_images=training_images/255.0 \n",
    "test_images=test_images/255.0 \n",
    "\n",
    "model = tf.keras.models.Sequential([\n",
    "                                      tf.keras.layers.Flatten(),\n",
    "                                      tf.keras.layers.Dense(512, activation=tf.nn.relu),\n",
    "                                      tf.keras.layers.Dense(10, activation=tf.nn.softmax)\n",
    "                                    ])\n",
    "\n",
    "model.compile(optimizer='adam', loss='sparse_categorical_crossentropy', metrics=['accuracy'])\n",
    "\n",
    "model.fit(training_images, training_labels, epochs=1)\n",
    "\n",
    "model.evaluate(test_images, test_labels)\n",
    "\n",
    "classifications = model.predict(test_images)\n",
    "\n",
    "print(classifications[0])\n",
    "print(test_labels[0])"
   ]
  },
  {
   "cell_type": "markdown",
   "id": "bcb39563",
   "metadata": {},
   "source": [
    "### see training image"
   ]
  },
  {
   "cell_type": "code",
   "execution_count": 2,
   "id": "b59f5964",
   "metadata": {},
   "outputs": [
    {
     "data": {
      "text/plain": [
       "<matplotlib.image.AxesImage at 0x17bbf7ef6d0>"
      ]
     },
     "execution_count": 2,
     "metadata": {},
     "output_type": "execute_result"
    },
    {
     "data": {
      "image/png": "[encoded data removed]",
      "text/plain": [
       "<Figure size 640x480 with 1 Axes>"
      ]
     },
     "metadata": {},
     "output_type": "display_data"
    }
   ],
   "source": [
    "import matplotlib.pyplot as plt\n",
    "\n",
    "# Visualize the image\n",
    "plt.imshow(training_images[0])"
   ]
  },
  {
   "cell_type": "markdown",
   "id": "9be29da4-897b-432c-ae35-f807b0546bc7",
   "metadata": {},
   "source": [
    "### see image size in numpy array"
   ]
  },
  {
   "cell_type": "code",
   "execution_count": null,
   "id": "0bbe7873-0d05-4c34-96fb-02efabfae874",
   "metadata": {},
   "outputs": [],
   "source": [
    "from tensorflow.keras.utils import img_to_array, load_img\n",
    "\n",
    "image_file = os.path.join(train_horses_dir, os.listdir(train_horses_dir)[0])\n",
    "sample_image  = load_img(image_file)\n",
    "sample_array = img_to_array(sample_image)\n",
    "\n",
    "print(f\"Each image has shape: {sample_array.shape}\")"
   ]
  },
  {
   "cell_type": "markdown",
   "id": "2f4497e2",
   "metadata": {},
   "source": [
    "### Softmax function of TF"
   ]
  },
  {
   "cell_type": "code",
   "execution_count": null,
   "id": "416c8fed",
   "metadata": {},
   "outputs": [],
   "source": [
    "# Declare sample inputs and convert to a tensor\n",
    "inputs = np.array([[1.0, 3.0, 4.0, 2.0]])\n",
    "inputs = tf.convert_to_tensor(inputs)\n",
    "print(f'input to softmax function: {inputs.numpy()}')\n",
    "\n",
    "# Feed the inputs to a softmax activation function\n",
    "outputs = tf.keras.activations.softmax(inputs)\n",
    "print(f'output of softmax function: {outputs.numpy()}')\n",
    "\n",
    "# Get the sum of all values after the softmax\n",
    "sum = tf.reduce_sum(outputs)\n",
    "print(f'sum of outputs: {sum}')\n",
    "\n",
    "# Get the index with highest value\n",
    "prediction = np.argmax(outputs)\n",
    "print(f'class with highest probability: {prediction}')"
   ]
  },
  {
   "cell_type": "markdown",
   "id": "728b9947",
   "metadata": {},
   "source": [
    "### callback funtiction to stop training if accuracy or loss meets certain thresold"
   ]
  },
  {
   "cell_type": "code",
   "execution_count": 6,
   "id": "b69565c3",
   "metadata": {},
   "outputs": [
    {
     "data": {
      "text/plain": [
       "'\\nmodel.fit(x_train, y_train, epochs=10, callbacks=[callbacks])\\n'"
      ]
     },
     "execution_count": 6,
     "metadata": {},
     "output_type": "execute_result"
    }
   ],
   "source": [
    "class myCallback(tf.keras.callbacks.Callback):\n",
    "    \n",
    "  def on_epoch_end(self, epoch, logs={}):  \n",
    "    if(logs.get('loss') < 0.4):\n",
    "\n",
    "      print(\"\\nLoss is lower than 0.4 so cancelling training!\")\n",
    "      self.model.stop_training = True\n",
    "\n",
    "# Instantiate class\n",
    "callbacks = myCallback()\n",
    "\n",
    "# Following way to use it in model defination\n",
    "'''\n",
    "model.fit(x_train, y_train, epochs=10, callbacks=[callbacks])\n",
    "'''"
   ]
  },
  {
   "cell_type": "markdown",
   "id": "485e8f80",
   "metadata": {},
   "source": [
    "# CNN "
   ]
  },
  {
   "cell_type": "code",
   "execution_count": null,
   "id": "a7e7e0cb",
   "metadata": {},
   "outputs": [],
   "source": [
    "import tensorflow as tf\n",
    "\n",
    "# Load the Fashion MNIST dataset\n",
    "fmnist = tf.keras.datasets.fashion_mnist\n",
    "(training_images, training_labels), (test_images, test_labels) = fmnist.load_data()\n",
    "\n",
    "# Normalize the pixel values\n",
    "training_images = training_images / 255.0\n",
    "test_images = test_images / 255.0\n",
    "\n",
    "# Define the model\n",
    "model = tf.keras.models.Sequential([\n",
    "                                                         \n",
    "  # Add convolutions and max pooling\n",
    "  tf.keras.layers.Conv2D(32, (3,3), activation='relu', input_shape=(28, 28, 1)),\n",
    "  tf.keras.layers.MaxPooling2D(2, 2),\n",
    "  tf.keras.layers.Conv2D(32, (3,3), activation='relu'),\n",
    "  tf.keras.layers.MaxPooling2D(2,2),\n",
    "\n",
    "  # Add the same layers as before\n",
    "  tf.keras.layers.Flatten(),\n",
    "  tf.keras.layers.Dense(128, activation='relu'),\n",
    "  tf.keras.layers.Dense(10, activation='softmax')\n",
    "])\n",
    "\n",
    "# Print the model summary\n",
    "model.summary()\n",
    "\n",
    "# Use same settings\n",
    "model.compile(optimizer='adam', loss='sparse_categorical_crossentropy', metrics=['accuracy'])\n",
    "\n",
    "# Train the model\n",
    "print(f'\\nMODEL TRAINING:')\n",
    "model.fit(training_images, training_labels, epochs=5)\n",
    "\n",
    "# Evaluate on the test set\n",
    "print(f'\\nMODEL EVALUATION:')\n",
    "test_loss = model.evaluate(test_images, test_labels)"
   ]
  },
  {
   "cell_type": "markdown",
   "id": "f374ab51",
   "metadata": {},
   "source": [
    "### To check how each filter is working in our CNN"
   ]
  },
  {
   "cell_type": "code",
   "execution_count": null,
   "id": "b3977dc7",
   "metadata": {},
   "outputs": [],
   "source": [
    "import matplotlib.pyplot as plt\n",
    "from tensorflow.keras import models\n",
    "\n",
    "f, axarr = plt.subplots(3,4)\n",
    "\n",
    "FIRST_IMAGE=0\n",
    "SECOND_IMAGE=23\n",
    "THIRD_IMAGE=28\n",
    "CONVOLUTION_NUMBER = 2\n",
    "\n",
    "layer_outputs = [layer.output for layer in model.layers]\n",
    "activation_model = tf.keras.models.Model(inputs = model.input, outputs = layer_outputs)\n",
    "\n",
    "for x in range(0,4):\n",
    "  f1 = activation_model.predict(test_images[FIRST_IMAGE].reshape(1, 28, 28, 1))[x]\n",
    "  axarr[0,x].imshow(f1[0, : , :, CONVOLUTION_NUMBER], cmap='inferno')\n",
    "  axarr[0,x].grid(False)\n",
    "  \n",
    "  f2 = activation_model.predict(test_images[SECOND_IMAGE].reshape(1, 28, 28, 1))[x]\n",
    "  axarr[1,x].imshow(f2[0, : , :, CONVOLUTION_NUMBER], cmap='inferno')\n",
    "  axarr[1,x].grid(False)\n",
    "  \n",
    "  f3 = activation_model.predict(test_images[THIRD_IMAGE].reshape(1, 28, 28, 1))[x]\n",
    "  axarr[2,x].imshow(f3[0, : , :, CONVOLUTION_NUMBER], cmap='inferno')\n",
    "  axarr[2,x].grid(False)"
   ]
  },
  {
   "cell_type": "markdown",
   "id": "97d76cdb",
   "metadata": {},
   "source": [
    "### Data generator in TF"
   ]
  },
  {
   "cell_type": "code",
   "execution_count": null,
   "id": "9b691240",
   "metadata": {},
   "outputs": [],
   "source": [
    "\n",
    "from tensorflow.keras.preprocessing.image import ImageDataGenerator\n",
    "\n",
    "# All images will be rescaled by 1./255\n",
    "train_datagen = ImageDataGenerator(rescale=1/255)\n",
    "\n",
    "# Flow training images in batches of 128 using train_datagen generator\n",
    "train_generator = train_datagen.flow_from_directory(\n",
    "        './horse-or-human/',  # This is the source directory for training images containing sub-folder of horse and human\n",
    "        target_size=(300, 300),  # All images will be resized to 300x300\n",
    "        batch_size=128,\n",
    "        # Since we use binary_crossentropy loss, we need binary labels\n",
    "        class_mode='binary')\n",
    "\n",
    "'''\n",
    "To use it model:\n",
    "    model = tf.keras.models.Sequential([\n",
    "            tf.keras.layers.Conv2D(16, (3,3), activation='relu', input_shape=(300, 300, 3)),\n",
    "            tf.keras.layers.MaxPooling2D(2, 2),\n",
    "            ...\n",
    "            ...\n",
    "'''\n",
    "\n",
    "'''\n",
    "To use it model.fit:\n",
    "        history = model.fit(\n",
    "                      train_generator,\n",
    "                      steps_per_epoch=8,  \n",
    "                      epochs=15,\n",
    "                      verbose=1)\n",
    "'''\n",
    "\n",
    "\n",
    "'''\n",
    "    For validation_data\n",
    "    history = model.fit(\n",
    "                  train_generator,\n",
    "                  steps_per_epoch=8,  \n",
    "                  epochs=15,\n",
    "                  verbose=1,\n",
    "                  validation_data = validation_generator,\n",
    "                  validation_steps=8)\n",
    "'''"
   ]
  },
  {
   "cell_type": "code",
   "execution_count": null,
   "id": "ef1dd47f",
   "metadata": {},
   "outputs": [],
   "source": [
    "# Sample model for CNN with complex image and data generator\n",
    "\n",
    "model = tf.keras.models.Sequential([\n",
    "    # Note the input shape is the desired size of the image 300x300 with 3 bytes color\n",
    "    # This is the first convolution\n",
    "    tf.keras.layers.Conv2D(16, (3,3), activation='relu', input_shape=(300, 300, 3)),\n",
    "    tf.keras.layers.MaxPooling2D(2, 2),\n",
    "    # The second convolution\n",
    "    tf.keras.layers.Conv2D(32, (3,3), activation='relu'),\n",
    "    tf.keras.layers.MaxPooling2D(2,2),\n",
    "    # The third convolution\n",
    "    tf.keras.layers.Conv2D(64, (3,3), activation='relu'),\n",
    "    tf.keras.layers.MaxPooling2D(2,2),\n",
    "    # The fourth convolution\n",
    "    tf.keras.layers.Conv2D(64, (3,3), activation='relu'),\n",
    "    tf.keras.layers.MaxPooling2D(2,2),\n",
    "    # The fifth convolution\n",
    "    tf.keras.layers.Conv2D(64, (3,3), activation='relu'),\n",
    "    tf.keras.layers.MaxPooling2D(2,2),\n",
    "    # Flatten the results to feed into a DNN\n",
    "    tf.keras.layers.Flatten(),\n",
    "    # 512 neuron hidden layer\n",
    "    tf.keras.layers.Dense(512, activation='relu'),\n",
    "    # Only 1 output neuron. It will contain a value from 0-1 where 0 for 1 class ('horses') and 1 for the other ('humans')\n",
    "    tf.keras.layers.Dense(1, activation='sigmoid')  # softmax for multi class \n",
    "])\n",
    "\n",
    "\n",
    "\n",
    "from tensorflow.keras.optimizers import RMSprop\n",
    "\n",
    "model.compile(optimizer=RMSprop(learning_rate=0.001),\n",
    "              loss='binary_crossentropy',  # sparse_categorical_crossentropy for multi class int labels\n",
    "                                           # categorical_crossentropy for multi class vector (one-hot-encoded)  \n",
    "              metrics = ['accuracy'])\n",
    "\n",
    "history = model.fit(\n",
    "              train_generator,\n",
    "              steps_per_epoch=8,  \n",
    "              epochs=15,\n",
    "              verbose=1,\n",
    "              validation_data = validation_generator,\n",
    "              validation_steps=8)\n"
   ]
  },
  {
   "cell_type": "markdown",
   "id": "61d00624",
   "metadata": {},
   "source": [
    "### some useful os command to check with files"
   ]
  },
  {
   "cell_type": "code",
   "execution_count": null,
   "id": "74303577",
   "metadata": {},
   "outputs": [],
   "source": [
    "import os\n",
    "\n",
    "# Directory with our training horse pictures\n",
    "train_horse_dir = os.path.join('./horse-or-human/horses')\n",
    "\n",
    "# list filenames under the directory\n",
    "train_horse_names = os.listdir(train_horse_dir)\n",
    "print(train_horse_names[:10])\n",
    "\n",
    "# no of files in directory\n",
    "print('total training horse images:', len(os.listdir(train_horse_dir)))"
   ]
  },
  {
   "cell_type": "markdown",
   "id": "1aa85b01-987a-4c13-bf55-501d0f98962d",
   "metadata": {},
   "source": [
    "### Plot training vs validation accuracy"
   ]
  },
  {
   "cell_type": "code",
   "execution_count": null,
   "id": "3d9ab428-c010-4360-94b7-14d1dca5e64b",
   "metadata": {},
   "outputs": [],
   "source": [
    "import matplotlib.pyplot as plt\n",
    "\n",
    "def plot_loss_acc(history):\n",
    "  '''Plots the training and validation loss and accuracy from a history object'''\n",
    "  acc = history.history['accuracy']\n",
    "  val_acc = history.history['val_accuracy']\n",
    "  loss = history.history['loss']\n",
    "  val_loss = history.history['val_loss']\n",
    "\n",
    "  epochs = range(len(acc))\n",
    "\n",
    "  plt.plot(epochs, acc, 'r-', label='Training accuracy')\n",
    "  plt.plot(epochs, val_acc, 'b', label='Validation accuracy')\n",
    "  plt.title('Training and validation accuracy')\n",
    "\n",
    "  plt.figure()\n",
    "\n",
    "  plt.plot(epochs, loss, 'r-', label='Training Loss')\n",
    "  plt.plot(epochs, val_loss, 'b', label='Validation Loss')\n",
    "  plt.title('Training and validation loss')\n",
    "  plt.legend()\n",
    "\n",
    "  plt.show()\n"
   ]
  },
  {
   "cell_type": "markdown",
   "id": "d55409e5-85b8-4d0c-968f-4dd75e78f34a",
   "metadata": {
    "tags": []
   },
   "source": [
    "#### same above plot using plotly"
   ]
  },
  {
   "cell_type": "code",
   "execution_count": null,
   "id": "a39e8ed4-1e8d-47cd-980d-3f5cf631eda3",
   "metadata": {},
   "outputs": [],
   "source": [
    "import pandas as pd\n",
    "import plotly.express as px\n",
    "def ploty_loss_acc(history):\n",
    "  acc = history.history['accuracy']\n",
    "  val_acc = history.history['val_accuracy']\n",
    "  loss = history.history['loss']\n",
    "  val_loss = history.history['val_loss']\n",
    "    \n",
    "    df = pd.DataFrame(dict(\n",
    "        epochs = epochs,\n",
    "        acc = acc,\n",
    "        val_acc = val_acc,\n",
    "        loss = loss,\n",
    "        val_loss = val_loss\n",
    "    ))\n",
    "\n",
    "    fig = px.line(df, x=\"epochs\", y=[\"acc\", \"val_acc\"], width=600, height=400)\n",
    "    fig.show()\n",
    "\n",
    "    fig2 = px.line(df, x=\"epochs\", y=[\"loss\", \"val_loss\"], width=600, height=400)\n",
    "    fig2.show()"
   ]
  },
  {
   "cell_type": "markdown",
   "id": "a719d4c9-3a9a-431a-89c6-a594ce85495b",
   "metadata": {},
   "source": [
    "### Augmentation using dataGenerator function"
   ]
  },
  {
   "cell_type": "code",
   "execution_count": null,
   "id": "c31ecf39-e86c-4313-8d69-46008c94e0af",
   "metadata": {},
   "outputs": [],
   "source": [
    "train_datagen = ImageDataGenerator(\n",
    "      rescale=1./255,\n",
    "      rotation_range=40,\n",
    "      width_shift_range=0.2,\n",
    "      height_shift_range=0.2,\n",
    "      shear_range=0.2,\n",
    "      zoom_range=0.2,\n",
    "      horizontal_flip=True,\n",
    "      fill_mode='nearest')"
   ]
  },
  {
   "cell_type": "markdown",
   "id": "42628833-c1f1-44b6-b1cb-6d6812a6e3f6",
   "metadata": {},
   "source": [
    "### Data spliting:"
   ]
  },
  {
   "cell_type": "code",
   "execution_count": null,
   "id": "923b2c30-6ec4-4495-b70e-61a52b99c736",
   "metadata": {},
   "outputs": [],
   "source": [
    "def split_data(SOURCE_DIR, TRAINING_DIR, VALIDATION_DIR, SPLIT_SIZE):\n",
    "  \"\"\"\n",
    "  Splits the data into train and test sets\n",
    "  \n",
    "  Args:\n",
    "    SOURCE_DIR (string): directory path containing the images\n",
    "    TRAINING_DIR (string): directory path to be used for training\n",
    "    VALIDATION_DIR (string): directory path to be used for validation\n",
    "    SPLIT_SIZE (float): proportion of the dataset to be used for training\n",
    "    \n",
    "  Returns:\n",
    "    None\n",
    "  \"\"\"\n",
    "  file_list = os.listdir(SOURCE_DIR)\n",
    "  total_sample_file_list = random.sample(file_list, len(file_list))\n",
    "  split_point = int(len(total_sample_file_list) * SPLIT_SIZE)\n",
    "  for i, file in enumerate(total_sample_file_list):\n",
    "    file_size = os.path.getsize(os.path.join(SOURCE_DIR,file))\n",
    "    if file_size == 0:\n",
    "      print(f'{file} is zero length, so ignoring.')\n",
    "      continue\n",
    "\n",
    "    if i < split_point:      \n",
    "        copyfile(os.path.join(SOURCE_DIR,file), os.path.join(TRAINING_DIR,file))\n",
    "    else:\n",
    "        copyfile(os.path.join(SOURCE_DIR,file), os.path.join(VALIDATION_DIR,file))"
   ]
  },
  {
   "cell_type": "markdown",
   "id": "1100d440-0561-47d4-8d07-34c1d8550392",
   "metadata": {},
   "source": [
    "#### Sample code to call split_data"
   ]
  },
  {
   "cell_type": "raw",
   "id": "294d0bb8-7998-46b1-86c0-7847ffc5a3d7",
   "metadata": {},
   "source": [
    "CAT_SOURCE_DIR = \"/tmp/PetImages/Cat/\"\n",
    "DOG_SOURCE_DIR = \"/tmp/PetImages/Dog/\"\n",
    "\n",
    "TRAINING_DIR = \"/tmp/cats-v-dogs/training/\"\n",
    "VALIDATION_DIR = \"/tmp/cats-v-dogs/validation/\"\n",
    "\n",
    "TRAINING_CATS_DIR = os.path.join(TRAINING_DIR, \"cats/\")\n",
    "VALIDATION_CATS_DIR = os.path.join(VALIDATION_DIR, \"cats/\")\n",
    "\n",
    "TRAINING_DOGS_DIR = os.path.join(TRAINING_DIR, \"dogs/\")\n",
    "VALIDATION_DOGS_DIR = os.path.join(VALIDATION_DIR, \"dogs/\")\n",
    "\n",
    "# Empty directories in case you run this cell multiple times\n",
    "if len(os.listdir(TRAINING_CATS_DIR)) > 0:\n",
    "  for file in os.scandir(TRAINING_CATS_DIR):\n",
    "    os.remove(file.path)\n",
    "if len(os.listdir(TRAINING_DOGS_DIR)) > 0:\n",
    "  for file in os.scandir(TRAINING_DOGS_DIR):\n",
    "    os.remove(file.path)\n",
    "if len(os.listdir(VALIDATION_CATS_DIR)) > 0:\n",
    "  for file in os.scandir(VALIDATION_CATS_DIR):\n",
    "    os.remove(file.path)\n",
    "if len(os.listdir(VALIDATION_DOGS_DIR)) > 0:\n",
    "  for file in os.scandir(VALIDATION_DOGS_DIR):\n",
    "    os.remove(file.path)\n",
    "\n",
    "# Define proportion of images used for training\n",
    "split_size = .9\n",
    "\n",
    "# Run the function\n",
    "# NOTE: Messages about zero length images should be printed out\n",
    "split_data(CAT_SOURCE_DIR, TRAINING_CATS_DIR, VALIDATION_CATS_DIR, split_size)\n",
    "split_data(DOG_SOURCE_DIR, TRAINING_DOGS_DIR, VALIDATION_DOGS_DIR, split_size)\n",
    "\n",
    "# Your function should perform copies rather than moving images so original directories should contain unchanged images\n",
    "print(f\"\\n\\nOriginal cat's directory has {len(os.listdir(CAT_SOURCE_DIR))} images\")\n",
    "print(f\"Original dog's directory has {len(os.listdir(DOG_SOURCE_DIR))} images\\n\")\n",
    "\n",
    "# Training and validation splits. Check that the number of images matches the expected output.\n",
    "print(f\"There are {len(os.listdir(TRAINING_CATS_DIR))} images of cats for training\")\n",
    "print(f\"There are {len(os.listdir(TRAINING_DOGS_DIR))} images of dogs for training\")\n",
    "print(f\"There are {len(os.listdir(VALIDATION_CATS_DIR))} images of cats for validation\")\n",
    "print(f\"There are {len(os.listdir(VALIDATION_DOGS_DIR))} images of dogs for validation\")"
   ]
  },
  {
   "cell_type": "markdown",
   "id": "d6fa5c91-56fb-4672-853d-ce30fd5e67e2",
   "metadata": {},
   "source": [
    "# Data generator for csv file or numpy array data\n",
    "## 1. First read data from csv and convert it to matrix"
   ]
  },
  {
   "cell_type": "code",
   "execution_count": null,
   "id": "1657916a-30a2-4b06-96a2-52c3c8e237be",
   "metadata": {},
   "outputs": [],
   "source": [
    "'''\n",
    "Csv file has format like below:\n",
    "\n",
    "label,pix1, pix2,....,pix785\n",
    "'''\n",
    "def parse_data_from_input(filename):\n",
    "  images = []\n",
    "  labels = []\n",
    "  with open(filename) as file:\n",
    "    csv_reader = csv.reader(file, delimiter=',')\n",
    "    for (i,row) in enumerate(csv_reader):\n",
    "      if i==0: # to skip first row which have column names\n",
    "        continue\n",
    "      lable = np.array(row[0]).astype(np.float64)\n",
    "\n",
    "      image_vector = row[1:]\n",
    "      image_matrix = np.reshape(image_vector, (28,28))\n",
    "      image_matrix = image_matrix.astype(np.float64)\n",
    "      \n",
    "      images.append(image_matrix)\n",
    "      labels.append(lable)\n",
    "    \n",
    "    labels = np.array(labels)\n",
    "    images = np.array(images)\n",
    "\n",
    "\n",
    "    return images, labels"
   ]
  },
  {
   "cell_type": "markdown",
   "id": "a392714d-080c-4254-8e56-5c81eedefdd0",
   "metadata": {},
   "source": [
    "## 2. Now expanding dimention for matrix and then make a data_generator"
   ]
  },
  {
   "cell_type": "code",
   "execution_count": null,
   "id": "c355bf8f-959c-4f0d-bc87-865ebb011ec5",
   "metadata": {},
   "outputs": [],
   "source": [
    "def train_val_generators(training_images, training_labels, validation_images, validation_labels):\n",
    "  \n",
    "  # input sample dimention(10000, 28, 28)\n",
    "  # need to make it (10000, 28, 28, 1)  \n",
    "  training_images = np.expand_dims(training_images, axis=3)\n",
    "  validation_images = np.expand_dims(validation_images, axis=3)\n",
    "\n",
    "  train_datagen = ImageDataGenerator(rescale = 1./255.,\n",
    "                                   rotation_range = 40,\n",
    "                                   width_shift_range = 0.2,\n",
    "                                   height_shift_range = 0.2,\n",
    "                                   shear_range = 0.2,\n",
    "                                   zoom_range = 0.2,\n",
    "                                   horizontal_flip = True)\n",
    "\n",
    "\n",
    "  train_generator = train_datagen.flow(x=training_images,\n",
    "                                       y=training_labels,\n",
    "                                       batch_size=32) \n",
    "\n",
    "  validation_datagen = ImageDataGenerator( rescale = 1.0/255. )\n",
    "\n",
    "  validation_generator = validation_datagen.flow(x=validation_images,\n",
    "                                                 y=validation_labels,\n",
    "                                                 batch_size=32) \n",
    "\n",
    "  return train_generator, validation_generator"
   ]
  },
  {
   "cell_type": "markdown",
   "id": "ea4cd466-837e-4658-912d-97f4b921fe94",
   "metadata": {},
   "source": [
    "## 3. Model for such multiclass data"
   ]
  },
  {
   "cell_type": "code",
   "execution_count": null,
   "id": "b7b391cc-babe-4a1a-8c55-151a2a0f547d",
   "metadata": {},
   "outputs": [],
   "source": [
    "from tensorflow.keras.optimizers import RMSprop\n",
    "\n",
    "def create_model():\n",
    "  model = model = tf.keras.models.Sequential([\n",
    "    tf.keras.layers.Conv2D(64, (3,3), activation='relu', input_shape=(28, 28, 1)),\n",
    "    tf.keras.layers.MaxPooling2D(2, 2),\n",
    "    tf.keras.layers.Conv2D(64, (3,3), activation='relu'),\n",
    "    tf.keras.layers.MaxPooling2D(2,2),    \n",
    "    tf.keras.layers.Flatten(),\n",
    "    tf.keras.layers.Dense(512, activation='relu'),\n",
    "    tf.keras.layers.Dense(26, activation='softmax')\n",
    "  ])\n",
    "\n",
    "  model.compile(optimizer = RMSprop(learning_rate=0.001),\n",
    "                loss = 'sparse_categorical_crossentropy',\n",
    "                metrics=['accuracy'])\n",
    "  return model\n",
    "\n",
    "\n",
    "\n",
    "model = create_model()\n",
    "history = model.fit(train_generator,\n",
    "                    epochs=15,\n",
    "                    validation_data=validation_generator)"
   ]
  }
 ],
 "metadata": {
  "kernelspec": {
   "display_name": "Python 3 (ipykernel)",
   "language": "python",
   "name": "python3"
  },
  "language_info": {
   "codemirror_mode": {
    "name": "ipython",
    "version": 3
   },
   "file_extension": ".py",
   "mimetype": "text/x-python",
   "name": "python",
   "nbconvert_exporter": "python",
   "pygments_lexer": "ipython3",
   "version": "3.11.1"
  },
  "toc-autonumbering": false,
  "toc-showmarkdowntxt": false
 },
 "nbformat": 4,
 "nbformat_minor": 5
}
